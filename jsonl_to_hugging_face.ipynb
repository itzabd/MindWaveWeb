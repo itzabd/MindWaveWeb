{
 "cells": [
  {
   "cell_type": "code",
   "execution_count": null,
   "id": "initial_id",
   "metadata": {
    "collapsed": true
   },
   "outputs": [],
   "source": [
    ""
   ]
  },
  {
   "metadata": {
    "ExecuteTime": {
     "end_time": "2025-05-02T17:05:52.045145Z",
     "start_time": "2025-05-02T17:05:52.030959Z"
    }
   },
   "cell_type": "code",
   "source": [
    "import json\n",
    "\n",
    "input_file = \"jsonl/l1b_train.jsonl\"\n",
    "output_file = \"eeg_dataset.jsonl\"  # Will be created in current directory\n",
    "\n",
    "with open(input_file, \"r\") as f_in, open(output_file, \"w\") as f_out:\n",
    "    for line in f_in:\n",
    "        try:\n",
    "            data = json.loads(line)\n",
    "            # Extract the user message (EEG data) and assistant response (label)\n",
    "            prompt = data[\"messages\"][1][\"content\"]  # EEG features as text\n",
    "            completion = data[\"messages\"][2][\"content\"]  # Label (e.g., \"4\")\n",
    "\n",
    "            # Create new format for fine-tuning\n",
    "            new_entry = {\n",
    "                \"text\": f\"Given this EEG data:\\n{prompt}\\nThe correct classification is: {completion}\"\n",
    "            }\n",
    "            f_out.write(json.dumps(new_entry) + \"\\n\")\n",
    "        except json.JSONDecodeError as e:\n",
    "            print(f\"Error parsing line: {line}\\nError: {e}\")\n",
    "        except (IndexError, KeyError) as e:\n",
    "            print(f\"Unexpected message format in line: {line}\\nError: {e}\")\n",
    "\n",
    "print(f\"Conversion complete. Output saved to {output_file}\")"
   ],
   "id": "1f082552ce2eb924",
   "outputs": [
    {
     "name": "stdout",
     "output_type": "stream",
     "text": [
      "Conversion complete. Output saved to eeg_dataset.jsonl\n"
     ]
    }
   ],
   "execution_count": 3
  },
  {
   "metadata": {},
   "cell_type": "code",
   "outputs": [],
   "execution_count": null,
   "source": "",
   "id": "deb2757eced7bd4f"
  }
 ],
 "metadata": {
  "kernelspec": {
   "display_name": "Python 3",
   "language": "python",
   "name": "python3"
  },
  "language_info": {
   "codemirror_mode": {
    "name": "ipython",
    "version": 2
   },
   "file_extension": ".py",
   "mimetype": "text/x-python",
   "name": "python",
   "nbconvert_exporter": "python",
   "pygments_lexer": "ipython2",
   "version": "2.7.6"
  }
 },
 "nbformat": 4,
 "nbformat_minor": 5
}
