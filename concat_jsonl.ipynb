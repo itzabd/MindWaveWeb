{
 "cells": [
  {
   "cell_type": "code",
   "id": "initial_id",
   "metadata": {
    "collapsed": true,
    "ExecuteTime": {
     "end_time": "2025-05-03T16:46:42.960339Z",
     "start_time": "2025-05-03T16:46:42.950704Z"
    }
   },
   "source": [
    "import json\n",
    "\n",
    "def concatenate_jsonl_files(output_file, *input_files):\n",
    "    \"\"\"\n",
    "    Concatenates multiple JSONL files into a single output file.\n",
    "\n",
    "    Args:\n",
    "        output_file (str): Path to the output JSONL file\n",
    "        *input_files: Variable number of input JSONL file paths\n",
    "    \"\"\"\n",
    "    with open(output_file, 'w') as outfile:\n",
    "        for file_path in input_files:\n",
    "            with open(file_path, 'r') as infile:\n",
    "                for line in infile:\n",
    "                    # Validate the line is proper JSON before writing\n",
    "                    try:\n",
    "                        json.loads(line)\n",
    "                        outfile.write(line)\n",
    "                    except json.JSONDecodeError:\n",
    "                        print(f\"Skipping invalid JSON line in {file_path}: {line.strip()}\")\n",
    "\n",
    "    print(f\"Successfully concatenated {len(input_files)} files into {output_file}\")\n",
    "\n",
    "# Example usage:\n",
    "concatenate_jsonl_files(\"concat_jsonl_train/concat_val.jsonl\", \"jsonl/k6b_val.jsonl\", \"jsonl/l1b_val.jsonl\",\"jsonl/k3b_val.jsonl\")"
   ],
   "outputs": [
    {
     "name": "stdout",
     "output_type": "stream",
     "text": [
      "Successfully concatenated 3 files into concat_jsonl_train/concat_val.jsonl\n"
     ]
    }
   ],
   "execution_count": 6
  }
 ],
 "metadata": {
  "kernelspec": {
   "display_name": "Python 3",
   "language": "python",
   "name": "python3"
  },
  "language_info": {
   "codemirror_mode": {
    "name": "ipython",
    "version": 2
   },
   "file_extension": ".py",
   "mimetype": "text/x-python",
   "name": "python",
   "nbconvert_exporter": "python",
   "pygments_lexer": "ipython2",
   "version": "2.7.6"
  }
 },
 "nbformat": 4,
 "nbformat_minor": 5
}
