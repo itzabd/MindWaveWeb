{
 "cells": [
  {
   "cell_type": "code",
   "id": "initial_id",
   "metadata": {
    "collapsed": true,
    "ExecuteTime": {
     "end_time": "2025-05-03T06:13:30.846503Z",
     "start_time": "2025-05-03T06:11:44.669803Z"
    }
   },
   "source": [
    "# Cell 1: Install and setup llama.cpp\n",
    "!pip install huggingface-hub > /dev/null\n",
    "!git clone https://github.com/ggerganov/llama.cpp\n",
    "%cd llama.cpp\n",
    "!make clean && make\n",
    "\n",
    "print(\"✅ llama.cpp compiled successfully\")\n",
    "\n",
    "# Cell 2: Convert fine-tuned model to GGUF\n",
    "import os\n",
    "from pathlib import Path\n",
    "\n",
    "model_path = \"../fine_tuned_distilgpt2\"\n",
    "output_file = \"distilgpt2-finetuned.gguf\"\n",
    "\n",
    "if not Path(model_path).exists():\n",
    "    raise FileNotFoundError(f\"Fine-tuned model not found at {model_path}\")\n",
    "\n",
    "# Use the correct conversion script\n",
    "!python convert_hf_to_gguf.py \"{model_path}\" \\\n",
    "    --outtype f16 \\\n",
    "    --outfile \"{output_file}\" \\\n",
    "    --vocab-type bpe \\\n",
    "    --ctx 2048 \\\n",
    "    --model-name distilgpt2\n",
    "if not Path(output_file).exists():\n",
    "    raise RuntimeError(\"Conversion failed - no output file created\")\n",
    "else:\n",
    "    print(f\"✅ GGUF file created: {os.path.getsize(output_file) / 1024 / 1024:.2f} MB\")\n",
    "\n",
    "# Cell 3: Quantize the model\n",
    "quantized_file = \"distilgpt2-finetuned.Q4_K_M.gguf\"\n",
    "\n",
    "# For Windows, use the .exe version if you're on Windows\n",
    "# For Linux/Mac, keep the ./quantize version\n",
    "if os.name == 'nt':  # Windows\n",
    "    !quantize.exe \"{output_file}\" \"{quantized_file}\" Q4_K_M\n",
    "else:  # Linux/Mac\n",
    "    !./quantize \"{output_file}\" \"{quantized_file}\" Q4_K_M\n",
    "\n",
    "if not Path(quantized_file).exists():\n",
    "    raise RuntimeError(\"Quantization failed\")\n",
    "else:\n",
    "    print(f\"✅ Quantized model created: {os.path.getsize(quantized_file) / 1024 / 1024:.2f} MB\")\n",
    "    print(f\"🔍 File info: {quantized_file}\")\n",
    "    !ls -lh \"{quantized_file}\""
   ],
   "outputs": [
    {
     "name": "stderr",
     "output_type": "stream",
     "text": [
      "The system cannot find the path specified.\n"
     ]
    },
    {
     "name": "stdout",
     "output_type": "stream",
     "text": [
      "C:\\Users\\sakib\\PycharmProjects\\MindWaveWeb\\llama.cpp\n"
     ]
    },
    {
     "name": "stderr",
     "output_type": "stream",
     "text": [
      "Cloning into 'llama.cpp'...\n",
      "Updating files:  69% (902/1289)\n",
      "Updating files:  70% (903/1289)\n",
      "Updating files:  71% (916/1289)\n",
      "Updating files:  72% (929/1289)\n",
      "Updating files:  73% (941/1289)\n",
      "Updating files:  74% (954/1289)\n",
      "Updating files:  75% (967/1289)\n",
      "Updating files:  76% (980/1289)\n",
      "Updating files:  77% (993/1289)\n",
      "Updating files:  78% (1006/1289)\n",
      "Updating files:  79% (1019/1289)\n",
      "Updating files:  80% (1032/1289)\n",
      "Updating files:  81% (1045/1289)\n",
      "Updating files:  82% (1057/1289)\n",
      "Updating files:  83% (1070/1289)\n",
      "Updating files:  84% (1083/1289)\n",
      "Updating files:  85% (1096/1289)\n",
      "Updating files:  86% (1109/1289)\n",
      "Updating files:  87% (1122/1289)\n",
      "Updating files:  88% (1135/1289)\n",
      "Updating files:  89% (1148/1289)\n",
      "Updating files:  90% (1161/1289)\n",
      "Updating files:  91% (1173/1289)\n",
      "Updating files:  92% (1186/1289)\n",
      "Updating files:  93% (1199/1289)\n",
      "Updating files:  94% (1212/1289)\n",
      "Updating files:  95% (1225/1289)\n",
      "Updating files:  96% (1238/1289)\n",
      "Updating files:  97% (1251/1289)\n",
      "Updating files:  98% (1264/1289)\n",
      "Updating files:  99% (1277/1289)\n",
      "Updating files: 100% (1289/1289)\n",
      "Updating files: 100% (1289/1289), done.\n"
     ]
    },
    {
     "name": "stdout",
     "output_type": "stream",
     "text": [
      "✅ llama.cpp compiled successfully\n"
     ]
    },
    {
     "name": "stderr",
     "output_type": "stream",
     "text": [
      "'make' is not recognized as an internal or external command,\n",
      "operable program or batch file.\n",
      "python: can't open file 'C:\\\\Users\\\\sakib\\\\PycharmProjects\\\\MindWaveWeb\\\\llama.cpp\\\\convert.py': [Errno 2] No such file or directory\n"
     ]
    },
    {
     "ename": "RuntimeError",
     "evalue": "Conversion failed - no output file created",
     "output_type": "error",
     "traceback": [
      "\u001B[31m---------------------------------------------------------------------------\u001B[39m",
      "\u001B[31mRuntimeError\u001B[39m                              Traceback (most recent call last)",
      "\u001B[36mCell\u001B[39m\u001B[36m \u001B[39m\u001B[32mIn[1]\u001B[39m\u001B[32m, line 22\u001B[39m\n\u001B[32m     19\u001B[39m get_ipython().system(\u001B[33m'\u001B[39m\u001B[33mpython convert.py \u001B[39m\u001B[33m\"\u001B[39m\u001B[38;5;132;01m{model_path}\u001B[39;00m\u001B[33m\"\u001B[39m\u001B[33m      --outtype f16      --outfile \u001B[39m\u001B[33m\"\u001B[39m\u001B[38;5;132;01m{output_file}\u001B[39;00m\u001B[33m\"\u001B[39m\u001B[33m      --vocab-type bpe      --ctx 2048\u001B[39m\u001B[33m'\u001B[39m)\n\u001B[32m     21\u001B[39m \u001B[38;5;28;01mif\u001B[39;00m \u001B[38;5;129;01mnot\u001B[39;00m Path(output_file).exists():\n\u001B[32m---> \u001B[39m\u001B[32m22\u001B[39m     \u001B[38;5;28;01mraise\u001B[39;00m \u001B[38;5;167;01mRuntimeError\u001B[39;00m(\u001B[33m\"\u001B[39m\u001B[33mConversion failed - no output file created\u001B[39m\u001B[33m\"\u001B[39m)\n\u001B[32m     23\u001B[39m \u001B[38;5;28;01melse\u001B[39;00m:\n\u001B[32m     24\u001B[39m     \u001B[38;5;28mprint\u001B[39m(\u001B[33mf\u001B[39m\u001B[33m\"\u001B[39m\u001B[33m✅ GGUF file created: \u001B[39m\u001B[38;5;132;01m{\u001B[39;00mos.path.getsize(output_file)/\u001B[32m1024\u001B[39m/\u001B[32m1024\u001B[39m\u001B[38;5;132;01m:\u001B[39;00m\u001B[33m.2f\u001B[39m\u001B[38;5;132;01m}\u001B[39;00m\u001B[33m MB\u001B[39m\u001B[33m\"\u001B[39m)\n",
      "\u001B[31mRuntimeError\u001B[39m: Conversion failed - no output file created"
     ]
    }
   ],
   "execution_count": 1
  }
 ],
 "metadata": {
  "kernelspec": {
   "display_name": "Python 3",
   "language": "python",
   "name": "python3"
  },
  "language_info": {
   "codemirror_mode": {
    "name": "ipython",
    "version": 2
   },
   "file_extension": ".py",
   "mimetype": "text/x-python",
   "name": "python",
   "nbconvert_exporter": "python",
   "pygments_lexer": "ipython2",
   "version": "2.7.6"
  }
 },
 "nbformat": 4,
 "nbformat_minor": 5
}
