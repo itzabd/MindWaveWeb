{
 "cells": [
  {
   "metadata": {
    "ExecuteTime": {
     "end_time": "2025-04-30T19:19:45.644366Z",
     "start_time": "2025-04-30T19:19:44.783255Z"
    }
   },
   "cell_type": "code",
   "source": [
    "import os\n",
    "from openai import OpenAI\n",
    "import openai\n",
    "import json\n",
    "from Preprocessing.feature_extraction import load_eeg_data"
   ],
   "id": "da23e13439f09fee",
   "outputs": [],
   "execution_count": 1
  },
  {
   "metadata": {
    "ExecuteTime": {
     "end_time": "2025-04-30T19:19:46.023996Z",
     "start_time": "2025-04-30T19:19:45.647767Z"
    }
   },
   "cell_type": "code",
   "source": [
    "openai.api_key = os.getenv(\"OPENAI_API_KEY\")  # You have set your own environment variable\n",
    "client = OpenAI()"
   ],
   "id": "f851ce7addea6893",
   "outputs": [
    {
     "ename": "OpenAIError",
     "evalue": "The api_key client option must be set either by passing api_key to the client or by setting the OPENAI_API_KEY environment variable",
     "output_type": "error",
     "traceback": [
      "\u001B[31m---------------------------------------------------------------------------\u001B[39m",
      "\u001B[31mOpenAIError\u001B[39m                               Traceback (most recent call last)",
      "\u001B[36mCell\u001B[39m\u001B[36m \u001B[39m\u001B[32mIn[2]\u001B[39m\u001B[32m, line 2\u001B[39m\n\u001B[32m      1\u001B[39m openai.api_key = \u001B[33m\"\u001B[39m\u001B[33msk-proj-3nmHpsB7G0TWeeYX-OIpEoMwnz7GhVCxLZh9x9CbbwpO4yzhkeVISfBBcfKJWmkS8eUcEeoIrtT3BlbkFJVNRjUKuGGsglyh8sFV54dbEp2hXDFgVe0e4QSmiUX2mJJLRujmfgcZm4DiwSCoKs6eec3mWZMA\u001B[39m\u001B[33m\"\u001B[39m  \u001B[38;5;66;03m# You have set your own environment variable\u001B[39;00m\n\u001B[32m----> \u001B[39m\u001B[32m2\u001B[39m client = \u001B[43mOpenAI\u001B[49m\u001B[43m(\u001B[49m\u001B[43m)\u001B[49m\n",
      "\u001B[36mFile \u001B[39m\u001B[32mF:\\MindWaveWeb\\.venv1\\Lib\\site-packages\\openai\\_client.py:116\u001B[39m, in \u001B[36mOpenAI.__init__\u001B[39m\u001B[34m(self, api_key, organization, project, base_url, websocket_base_url, timeout, max_retries, default_headers, default_query, http_client, _strict_response_validation)\u001B[39m\n\u001B[32m    114\u001B[39m     api_key = os.environ.get(\u001B[33m\"\u001B[39m\u001B[33mOPENAI_API_KEY\u001B[39m\u001B[33m\"\u001B[39m)\n\u001B[32m    115\u001B[39m \u001B[38;5;28;01mif\u001B[39;00m api_key \u001B[38;5;129;01mis\u001B[39;00m \u001B[38;5;28;01mNone\u001B[39;00m:\n\u001B[32m--> \u001B[39m\u001B[32m116\u001B[39m     \u001B[38;5;28;01mraise\u001B[39;00m OpenAIError(\n\u001B[32m    117\u001B[39m         \u001B[33m\"\u001B[39m\u001B[33mThe api_key client option must be set either by passing api_key to the client or by setting the OPENAI_API_KEY environment variable\u001B[39m\u001B[33m\"\u001B[39m\n\u001B[32m    118\u001B[39m     )\n\u001B[32m    119\u001B[39m \u001B[38;5;28mself\u001B[39m.api_key = api_key\n\u001B[32m    121\u001B[39m \u001B[38;5;28;01mif\u001B[39;00m organization \u001B[38;5;129;01mis\u001B[39;00m \u001B[38;5;28;01mNone\u001B[39;00m:\n",
      "\u001B[31mOpenAIError\u001B[39m: The api_key client option must be set either by passing api_key to the client or by setting the OPENAI_API_KEY environment variable"
     ]
    }
   ],
   "execution_count": 2
  },
  {
   "metadata": {
    "ExecuteTime": {
     "end_time": "2025-04-30T19:19:46.026967300Z",
     "start_time": "2024-09-15T07:13:08.292825Z"
    }
   },
   "cell_type": "code",
   "source": [
    "def create_file(train_jsonl_dir, val_jsonl_dir):\n",
    "    \"\"\"\n",
    "    Create a file in the OpenAI API\n",
    "    After creating the file, you should see the file ID(train/test) in the website(platform.openai.com).\n",
    "    :param train_jsonl_dir: A directory of the train data in jsonl format\n",
    "    :param val_jsonl_dir: A directory of the test data in jsonl format\n",
    "    :return:\n",
    "    \"\"\"\n",
    "    # load train data\n",
    "    client.files.create(\n",
    "        file=open(train_jsonl_dir, 'rb'),\n",
    "        purpose='fine-tune'\n",
    "    )\n",
    "    print(f\"Loaded {train_jsonl_dir}\")\n",
    "\n",
    "    # load validation data\n",
    "    client.files.create(\n",
    "        file=open(val_jsonl_dir, 'rb'),\n",
    "        purpose='fine-tune'\n",
    "    )\n",
    "    print(f\"Loaded {val_jsonl_dir}\")"
   ],
   "id": "218ef2ad2720fb02",
   "outputs": [],
   "execution_count": 6
  },
  {
   "metadata": {
    "ExecuteTime": {
     "end_time": "2025-04-30T19:19:46.028967400Z",
     "start_time": "2024-09-15T07:13:32.858644Z"
    }
   },
   "cell_type": "code",
   "source": [
    "base_path = 'your_base_path'\n",
    "train_jsonl_dir = base_path + 'jsonl/your_train_jsonl.jsonl'\n",
    "val_jsonl_dir = base_path + 'jsonl/your_val_jsonl.jsonl'"
   ],
   "id": "f12393506933aade",
   "outputs": [],
   "execution_count": 13
  },
  {
   "metadata": {},
   "cell_type": "code",
   "outputs": [],
   "execution_count": null,
   "source": "create_file(train_jsonl_dir, val_jsonl_dir)",
   "id": "9eeedeb1c77989b8"
  },
  {
   "metadata": {},
   "cell_type": "code",
   "outputs": [],
   "execution_count": 23,
   "source": [
    "window_size = 1000\n",
    "selected_columns = [\n",
    "        [0, [(10, 12), (12, 14)]],  # FCz\n",
    "        [2, [(20, 22), (22, 24)]],  # C3\n",
    "        [3, [(8, 10)]],  # Cz\n",
    "        [4, [(20, 22), (22, 24)]],  # C4\n",
    "        [5, [(28, 30)]],  # CP3\n",
    "    ]"
   ],
   "id": "207cfe54d960e2a2"
  },
  {
   "metadata": {
    "ExecuteTime": {
     "end_time": "2025-04-30T19:19:46.035964Z",
     "start_time": "2024-09-06T06:13:20.590623Z"
    }
   },
   "cell_type": "code",
   "source": [
    "training_file_1 = 'file-your_training_file_1'  # Ensure this should be checked in the website(platform.openai.com)\n",
    "val_file_1 = 'file-your_val_file_1'  # Ensure this should be checked in the website(platform.openai.com)\n",
    "\n",
    "training_file_2 = 'file-your_training_file_2'  # Ensure this should be checked in the website(platform.openai.com)\n",
    "val_file_2 = 'file-your_val_file_2'  # Ensure this should be checked in the website(platform.openai.com)\n",
    "\n",
    "training_file_3 = 'file-your_training_file_3'  # Ensure this should be checked in the website(platform.openai.com)\n",
    "val_file_3 = 'file-your_val_file_3'  # Ensure this should be checked in the website(platform.openai.com)\n",
    "\n",
    "training_file_4 = 'file-your_training_file_4'  # Ensure this should be checked in the website(platform.openai.com)\n",
    "val_file_4 = 'file-your_val_file_4'  # Ensure this should be checked in the website(platform.openai.com)\n",
    "\n",
    "model = 'gpt-4o-2024-08-06'"
   ],
   "id": "3b0b87ded26ff4d3",
   "outputs": [],
   "execution_count": 18
  },
  {
   "metadata": {},
   "cell_type": "markdown",
   "source": "We did a binary classification for each label on the Motor Image EEG data with 4 labels. Because of this, there are a total of 4 different datasets, and we created a total of 4 models. If you want to design a GPT fine-tuning model that performs multi-class classification, you can change the code accordingly.",
   "id": "bd856fd59594a058"
  },
  {
   "metadata": {},
   "cell_type": "markdown",
   "source": [
    "### FYI\n",
    "<p>The hyperparameters are automatically set by OpenAI during fine tuning without having to set them separately.<br>You can set them yourself if you want.</p>"
   ],
   "id": "1396ec862bacabb4"
  },
  {
   "metadata": {
    "ExecuteTime": {
     "end_time": "2025-04-30T19:19:46.041963300Z",
     "start_time": "2024-09-06T06:13:23.773298Z"
    }
   },
   "cell_type": "code",
   "source": [
    "def train(training_file, val_file, model):\n",
    "    \"\"\"\n",
    "    Fine-tuning the GPT model.\n",
    "    After training, you should check the name of the model in the website(platform.openai.com).\n",
    "    :param training_file: The ID of the training file\n",
    "    :param val_file: The ID of the validation file\n",
    "    :param model: anything you want(davinci-002 / gpt-3.5-turbo / and so on)\n",
    "    \"\"\"\n",
    "    # start fine-tuning\n",
    "    client.fine_tuning.jobs.create(\n",
    "        training_file=training_file,\n",
    "        validation_file=val_file,\n",
    "        model=model\n",
    "        # default=auto, thus it doesn't need to be specified\n",
    "        # hyperparameters={\n",
    "        #     'n_epochs':10,\n",
    "        #     'batch_size':16,\n",
    "        #     'learning_rate_multiplier':1e-4\n",
    "        # }\n",
    "    )\n",
    "\n",
    "    print(\"Fine-tuning started.\")"
   ],
   "id": "a205a6c5284a685",
   "outputs": [],
   "execution_count": 19
  },
  {
   "metadata": {},
   "cell_type": "markdown",
   "source": [
    "### FYI\n",
    "<p>OpenAI supports up to two GPT fine-tuning at a time.<br>That's the reason that I divided the training cell into two parts.</p>"
   ],
   "id": "c2e013b8d9cd5820"
  },
  {
   "metadata": {
    "ExecuteTime": {
     "end_time": "2025-04-30T19:19:46.042965Z",
     "start_time": "2024-09-06T06:13:28.988578Z"
    }
   },
   "cell_type": "code",
   "source": [
    "train(training_file_1, val_file_1, model)\n",
    "train(training_file_2, val_file_2, model)"
   ],
   "id": "e532a9ed79a457e4",
   "outputs": [
    {
     "name": "stdout",
     "output_type": "stream",
     "text": [
      "Fine-tuning started.\n",
      "Fine-tuning started.\n"
     ]
    }
   ],
   "execution_count": 20
  },
  {
   "metadata": {},
   "cell_type": "code",
   "outputs": [],
   "execution_count": null,
   "source": [
    "train(training_file_3, val_file_3, model)\n",
    "train(training_file_4, val_file_4, model)"
   ],
   "id": "e70a6f03082c60ea"
  },
  {
   "metadata": {},
   "cell_type": "code",
   "outputs": [],
   "execution_count": null,
   "source": "",
   "id": "6442efbea60101c6"
  }
 ],
 "metadata": {
  "kernelspec": {
   "display_name": "Python 3",
   "language": "python",
   "name": "python3"
  },
  "language_info": {
   "codemirror_mode": {
    "name": "ipython",
    "version": 2
   },
   "file_extension": ".py",
   "mimetype": "text/x-python",
   "name": "python",
   "nbconvert_exporter": "python",
   "pygments_lexer": "ipython2",
   "version": "2.7.6"
  }
 },
 "nbformat": 4,
 "nbformat_minor": 5
}
