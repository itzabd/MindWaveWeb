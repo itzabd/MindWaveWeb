{
 "cells": [
  {
   "cell_type": "code",
   "id": "initial_id",
   "metadata": {
    "collapsed": true,
    "ExecuteTime": {
     "end_time": "2025-05-04T07:08:28.891443Z",
     "start_time": "2025-05-04T07:08:21.201079Z"
    }
   },
   "source": [
    "import pandas as pd\n",
    "import os\n",
    "\n",
    "def concat_csvs(folder_path, output_file):\n",
    "    \"\"\"\n",
    "    Concatenates all CSVs in the given folder into a single CSV using pandas.concat().\n",
    "\n",
    "    Assumes all CSVs have the same structure (columns).\n",
    "\n",
    "    Parameters:\n",
    "    - folder_path: str, path to the folder containing CSV files\n",
    "    - output_file: str, path to save the final combined CSV\n",
    "    \"\"\"\n",
    "    all_files = [f for f in os.listdir(folder_path) if f.endswith('.csv')]\n",
    "    full_paths = [os.path.join(folder_path, f) for f in all_files]\n",
    "\n",
    "    combined_df = pd.concat((pd.read_csv(f) for f in full_paths), ignore_index=True)\n",
    "    combined_df.to_csv(output_file, index=False)\n",
    "    print(f\"Saved combined CSV to: {output_file}\")\n",
    "concat_csvs(\"csv_concat_dir\",\"concat_files.csv\")"
   ],
   "outputs": [
    {
     "name": "stdout",
     "output_type": "stream",
     "text": [
      "Saved combined CSV to: concat_files.csv\n"
     ]
    }
   ],
   "execution_count": 1
  }
 ],
 "metadata": {
  "kernelspec": {
   "display_name": "Python 3",
   "language": "python",
   "name": "python3"
  },
  "language_info": {
   "codemirror_mode": {
    "name": "ipython",
    "version": 2
   },
   "file_extension": ".py",
   "mimetype": "text/x-python",
   "name": "python",
   "nbconvert_exporter": "python",
   "pygments_lexer": "ipython2",
   "version": "2.7.6"
  }
 },
 "nbformat": 4,
 "nbformat_minor": 5
}
